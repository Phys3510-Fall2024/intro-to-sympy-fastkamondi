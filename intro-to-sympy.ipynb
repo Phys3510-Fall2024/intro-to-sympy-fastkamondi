{
 "cells": [
  {
   "cell_type": "markdown",
   "id": "9c011f8e-c91f-4ed2-9aac-7cec86e4a071",
   "metadata": {},
   "source": [
    "# Working in SymPy\n",
    "\n",
    "`SymPy` is a package for symbolic manipulation of expressions, equations, and calculus. The [website](https://docs.sympy.org/latest/index.html) for `SymPy` has tutorials explaining how things work. You can also use the `help()` and `dir()` functions to explore the properties of the `SymPy` package.\n",
    "\n",
    "The way it is structured is that the different mathematical objects are defined with capital letters (e.g. `Symbol`, `Function`, `Matrix`) while the functions and utilities are defined with lower-case leading letters (e.g. `simplify`, `dsolve`)."
   ]
  },
  {
   "cell_type": "markdown",
   "id": "f02f4bb2-26fe-46c7-b8fb-4336f4c2576e",
   "metadata": {},
   "source": [
    "### 1. **Basic Operations**\n",
    "\n",
    "- `symbols()`: Define symbolic variables for expressions.\n",
    "- `subs()`: Substitute values or expressions for variables.\n",
    "- `sympify()`: Convert strings or Python objects to SymPy expressions.\n",
    "- `evalf()`: Evaluate expressions to floating-point numbers.\n",
    "- `lambdify()`: Convert symbolic expressions to numerical functions (supports backends like NumPy and SciPy).\n"
   ]
  },
  {
   "cell_type": "markdown",
   "id": "c273a14c-4628-42e5-8431-0cbd58476e53",
   "metadata": {},
   "source": [
    "### 2. **Simplifying Expressions**\n",
    "\n",
    "- `simplify()`: Simplify general expressions (algebraic, trigonometric, etc.).\n",
    "- `expand()`: Expand an expression (e.g., expand a polynomial or product).\n",
    "- `factor()`: Factor expressions (e.g., factor a polynomial).\n",
    "- `collect()`: Collect like terms in an expression.\n",
    "- `apart()`: Partial fraction decomposition of rational expressions.\n",
    "- `cancel()`: Cancel common factors in a rational function.\n",
    "- `trigsimp()`: Simplify trigonometric expressions.\n",
    "- `logcombine()`: Combine logarithmic terms into a single expression.\n",
    "- `powsimp()`: Simplify powers and exponents.\n"
   ]
  },
  {
   "cell_type": "markdown",
   "id": "17af0651-4cea-4dee-8b50-ff48f9118935",
   "metadata": {},
   "source": [
    "### 3. **Calculus**\n",
    "\n",
    "#### 3.1 Derivatives\n",
    "- `diff()`: Compute derivatives of expressions (supports higher-order derivatives).\n",
    "\n",
    "#### 3.2 Integrals\n",
    "- `integrate()`: Compute symbolic integrals (both definite and indefinite).\n",
    "- `integrate(f, (var, a, b))`: Compute definite integrals over an interval.\n",
    "  \n",
    "#### 3.3 Limits\n",
    "- `limit()`: Compute the limit of an expression as a variable approaches a value.\n",
    "\n",
    "#### 3.4 Series\n",
    "- `series()`: Expand a function in a Taylor or Laurent series around a point.\n"
   ]
  },
  {
   "cell_type": "markdown",
   "id": "87d5dd3d-d260-4df4-a02b-0e3e1525ffde",
   "metadata": {},
   "source": [
    "### 4. **Linear Algebra**\n",
    "\n",
    "- `Matrix()`: Define symbolic matrices.\n",
    "- `det()`: Compute the determinant of a matrix.\n",
    "- `inv()`: Compute the inverse of a matrix.\n",
    "- `eigenvals()`: Compute eigenvalues of a matrix.\n",
    "- `eigenvects()`: Compute eigenvectors of a matrix.\n",
    "- `solve_linear_system()`: Solve a system of linear equations.\n",
    "- `transpose()`: Transpose a matrix.\n",
    "- `rref()`: Compute the reduced row echelon form of a matrix.\n"
   ]
  },
  {
   "cell_type": "markdown",
   "id": "fcdad056-2414-42d9-844a-ed5dd00f58ec",
   "metadata": {},
   "source": [
    "### 5. **Differential Equations**\n",
    "\n",
    "- `dsolve()`: Solve ordinary differential equations (ODEs).\n",
    "- `Function()`: Define a function that represents the solution of a differential equation.\n",
    "- `Eq()`: Set up an equation (useful for defining differential equations).\n",
    "- `classify_ode()`: Classify an ODE to determine its solution method.\n",
    "- `checkodesol()`: Check whether a solution satisfies a given differential equation.\n"
   ]
  },
  {
   "cell_type": "markdown",
   "id": "83afdf77-b9ef-49ac-81cb-8808919406cc",
   "metadata": {},
   "source": [
    "### 6. **Solving Equations**\n",
    "\n",
    "- `solve()`: Solve algebraic equations (returns roots or solutions).\n",
    "- `nonlinsolve()`: Solve systems of nonlinear equations.\n",
    "- `linsolve()`: Solve systems of linear equations.\n",
    "- `solvers.solvers.solve()`: A more general solver for symbolic equations.\n",
    "- `solvers.decomp_ineq()`: Decompose inequalities for solving them.\n"
   ]
  },
  {
   "cell_type": "markdown",
   "id": "d553c212-6c9a-4bae-8f59-eac3f40886b5",
   "metadata": {},
   "source": [
    "### 7. **Polynomials**\n",
    "\n",
    "- `Poly()`: Create a polynomial object for more control over polynomials.\n",
    "- `degree()`: Get the degree of a polynomial.\n",
    "- `roots()`: Find the roots of a polynomial.\n",
    "- `gcd()`: Compute the greatest common divisor of polynomials.\n",
    "- `lcm()`: Compute the least common multiple of polynomials.\n"
   ]
  },
  {
   "cell_type": "markdown",
   "id": "29b03144-71d0-437e-88f1-bdc36b948df3",
   "metadata": {},
   "source": [
    "### 8. **Trigonometry**\n",
    "\n",
    "- `sin()`, `cos()`, `tan()`: Basic trigonometric functions.\n",
    "- `asin()`, `acos()`, `atan()`: Inverse trigonometric functions.\n",
    "- `expand_trig()`: Expand trigonometric expressions (e.g., using angle addition formulas).\n",
    "- `trigsimp()`: Simplify trigonometric expressions.\n",
    "- `rewrite()`: Rewrite trigonometric functions in terms of other functions (e.g., rewrite `sin(x)` in terms of exponential functions).\n"
   ]
  },
  {
   "cell_type": "markdown",
   "id": "00b21f75-b3d3-4452-83b2-c9e95ae4a2ca",
   "metadata": {},
   "source": [
    "### Here's an example of how to solve a quadratic equation"
   ]
  },
  {
   "cell_type": "code",
   "execution_count": 1,
   "id": "1292573a-ec37-405d-b771-6148870a5196",
   "metadata": {},
   "outputs": [
    {
     "data": {
      "text/plain": [
       "[(-b - sqrt(-4*a*c + b**2))/(2*a), (-b + sqrt(-4*a*c + b**2))/(2*a)]"
      ]
     },
     "execution_count": 1,
     "metadata": {},
     "output_type": "execute_result"
    }
   ],
   "source": [
    "import sympy as sp\n",
    "\n",
    "# Define the symbolic variables\n",
    "a, b, c, x = sp.symbols('a b c x')\n",
    "\n",
    "# Define the quadratic equation: ax^2 + bx + c = 0\n",
    "quadratic_eq = sp.Eq(a*x**2 + b*x + c, 0)\n",
    "\n",
    "# Solve the quadratic equation for x\n",
    "solutions = sp.solve(quadratic_eq, x)\n",
    "\n",
    "# Display the solutions\n",
    "solutions\n"
   ]
  },
  {
   "cell_type": "markdown",
   "id": "6f130c0d-870b-4e8e-b398-f4a3ea395e30",
   "metadata": {},
   "source": [
    "### Here's an example of how to solve a differential equation"
   ]
  },
  {
   "cell_type": "code",
   "execution_count": 12,
   "id": "1d908ff4-300b-41da-b3a2-e4b466632edb",
   "metadata": {},
   "outputs": [
    {
     "data": {
      "text/latex": [
       "$\\displaystyle y{\\left(x \\right)} = y_{0} e^{- \\frac{b x}{a}} e^{\\frac{b x_{0}}{a}}$"
      ],
      "text/plain": [
       "Eq(y(x), y0*exp(-b*x/a)*exp(b*x0/a))"
      ]
     },
     "execution_count": 12,
     "metadata": {},
     "output_type": "execute_result"
    }
   ],
   "source": [
    "import sympy as sp\n",
    "\n",
    "# Define the symbolic variables and function\n",
    "x, x0, y0, a, b = sp.symbols('x x0 y0 a b')  # Independent variable, constants, initial condition\n",
    "y = sp.Function('y')(x)  # Dependent variable y as a function of x\n",
    "\n",
    "# Define the first-order differential equation: a*y' + b*y = 0\n",
    "diff_eq = sp.Eq(a * y.diff(x) + b * y, 0)\n",
    "\n",
    "# Solve the differential equation\n",
    "general_solution = sp.dsolve(diff_eq, y)\n",
    "\n",
    "# Extract the solution for y(x)\n",
    "solution_y = general_solution.rhs\n",
    "\n",
    "# Apply the initial condition: y(x0) = y0\n",
    "initial_condition = sp.Eq(solution_y.subs(x, x0), y0)\n",
    "\n",
    "# Solve for the constant C1\n",
    "C1_value = sp.solve(initial_condition, sp.symbols('C1'))[0]\n",
    "\n",
    "# Substitute C1 back into the general solution\n",
    "solution_with_ic = general_solution.subs(sp.symbols('C1'), C1_value)\n",
    "\n",
    "# Display the solution with initial conditions\n",
    "solution_with_ic"
   ]
  },
  {
   "cell_type": "markdown",
   "id": "3cc4df62-649e-44a5-8162-29d985bff03d",
   "metadata": {},
   "source": [
    "## Assignment (1): Use `SymPy` to test the solutions we derived in class last week. \n",
    "\n",
    "$Q_{tr} = A cos(\\omega_\\gamma t) + B sin(\\omega_\\gamma t)$\n",
    "\n",
    "and \n",
    "\n",
    "$Q_{st} = \\bar{C} cos(\\omega t - \\phi)$\n",
    "\n",
    "where\n",
    "\n",
    "$\\omega_\\gamma = \\omega_0^2 - \\gamma^2$,\n",
    "\n",
    "$\\bar{C} = \\frac{F_0/m}{\\sqrt{(\\omega_0^2-\\omega^2)^2-4\\gamma^2\\omega^2}}$,\n",
    "\n",
    "and\n",
    "\n",
    "$\\phi = \\frac{2\\gamma\\omega}{\\omega_0^2-\\omega^2}$"
   ]
  },
  {
   "cell_type": "markdown",
   "id": "f63bfdbc-3268-4e8c-9ff8-de4addbbf6c4",
   "metadata": {},
   "source": [
    "$m\\ddot Q + 2\\gamma m\\dot Q + kQ = F_0sin(\\omega t + \\phi)$"
   ]
  },
  {
   "cell_type": "code",
   "execution_count": 7,
   "id": "acbdddf9-70cf-43bf-9fd0-0716bac5cefd",
   "metadata": {},
   "outputs": [
    {
     "data": {
      "text/latex": [
       "$\\displaystyle C_{1} e^{t \\left(- γ + \\frac{\\sqrt{m \\left(- k + m γ^{2}\\right)}}{m}\\right)} + C_{2} e^{- t \\left(γ + \\frac{\\sqrt{m \\left(- k + m γ^{2}\\right)}}{m}\\right)} + \\frac{F_{0} k \\sin{\\left(t ω + φ \\right)}}{k^{2} - 2 k m ω^{2} + 4 m^{2} γ^{2} ω^{2} + m^{2} ω^{4}} - \\frac{2 F_{0} m γ ω \\cos{\\left(t ω + φ \\right)}}{k^{2} - 2 k m ω^{2} + 4 m^{2} γ^{2} ω^{2} + m^{2} ω^{4}} - \\frac{F_{0} m ω^{2} \\sin{\\left(t ω + φ \\right)}}{k^{2} - 2 k m ω^{2} + 4 m^{2} γ^{2} ω^{2} + m^{2} ω^{4}}$"
      ],
      "text/plain": [
       "C1*exp(t*(-γ + sqrt(m*(-k + m*γ**2))/m)) + C2*exp(-t*(γ + sqrt(m*(-k + m*γ**2))/m)) + F0*k*sin(t*ω + φ)/(k**2 - 2*k*m*ω**2 + 4*m**2*γ**2*ω**2 + m**2*ω**4) - 2*F0*m*γ*ω*cos(t*ω + φ)/(k**2 - 2*k*m*ω**2 + 4*m**2*γ**2*ω**2 + m**2*ω**4) - F0*m*ω**2*sin(t*ω + φ)/(k**2 - 2*k*m*ω**2 + 4*m**2*γ**2*ω**2 + m**2*ω**4)"
      ]
     },
     "execution_count": 7,
     "metadata": {},
     "output_type": "execute_result"
    }
   ],
   "source": [
    "import sympy as sp\n",
    "\n",
    "# define variable t & constants/initial conditions\n",
    "t, k, m, gamma, omega, phi, F0, Q0, V0, t0 = sp.symbols('t k m γ ω φ F0 Q0 V0 t0')\n",
    "Q = sp.Function('Q')(t)\n",
    "\n",
    "# define the second order ODE\n",
    "diff_eq = sp.Eq(m*sp.diff(Q, t, 2) + 2*gamma*m*Q.diff(t) + k*Q, F0*sp.sin(omega*t + phi))\n",
    "\n",
    "# general solution for ODE\n",
    "gen_sol = sp.dsolve(diff_eq, Q)\n",
    "\n",
    "sol_Q = gen_sol.rhs\n",
    "sol_Q\n",
    "\n",
    "# apply initial conditions Q(t0) = Q0, dQ/dt(t0) = V0\n",
    "# ic_1 = sp.Eq(sol_Q.subs(t, t0), Q0)\n",
    "# ic_2 = sp.Eq(sol_Q.diff(t).subs(t, t0), V0)\n",
    "\n",
    "# C1_val = sp.solve(ic_1, sp.symbols('C1'))[0]\n",
    "# C2_val = sp.solve(ic_2, sp.symbols('C2'))[0]\n",
    "\n",
    "# sol_w_ic = gen_sol.subs(sp.symbols('C1'), C1_val).subs(sp.symbols('C2'), C2_val)\n",
    "# sol_w_ic\n",
    "\n",
    "# initial conditions not working"
   ]
  },
  {
   "cell_type": "markdown",
   "id": "b2c813e3-e84e-4bd4-a702-736564201459",
   "metadata": {},
   "source": [
    "answer from sympy w/out initial conditions:\n",
    "\n",
    "$$C_1e^{t(-\\gamma + \\frac{\\sqrt{m(-k + m\\gamma^2)}}{m})} + C_2e^{t(-\\gamma + \\frac{\\sqrt{m(-k + m\\gamma^2)}}{m})} + \\frac{F_0ksin(t\\omega + \\varphi)}{k^2 - 2km\\omega^2 + 4m^2\\gamma^2\\omega^2 + m^2\\omega^4} - \\frac{2F_0m\\gamma\\omega cos(t\\omega + \\varphi)}{k^2 - 2km\\omega^2 + 4m^2\\gamma^2\\omega^2 + m^2\\omega^4} - \\frac{F_0m\\omega^2sin(t\\omega + \\varphi)}{k^2 - 2km\\omega^2 + 4m^2\\gamma^2\\omega^2 + m^2\\omega^4}$$"
   ]
  },
  {
   "cell_type": "markdown",
   "id": "00166a55-da2f-484f-b93d-440e9bf6a5e4",
   "metadata": {},
   "source": []
  },
  {
   "cell_type": "markdown",
   "id": "cce25b14-6723-40f6-9d75-b74c92b2461d",
   "metadata": {},
   "source": [
    "\n",
    "$\\omega_\\gamma = \\omega_0^2 - \\gamma^2$,\n",
    "\n",
    "$\\bar{C} = \\frac{F_0/m}{\\sqrt{(\\omega_0^2-\\omega^2)^2-4\\gamma^2\\omega^2}}$,\n",
    "\n",
    "and\n",
    "\n",
    "$\\varphi = \\frac{2\\gamma\\omega}{\\omega_0^2-\\omega^2}$"
   ]
  },
  {
   "cell_type": "markdown",
   "id": "7abe929c-4ca7-4690-84b6-216369e0c4a1",
   "metadata": {},
   "source": [
    "## Assignment (2): Create representative plots of $\\bar{C}$ and $\\phi$ \n"
   ]
  },
  {
   "cell_type": "code",
   "execution_count": 2,
   "id": "a9e8ac2f-4eb9-4022-bc85-bcf24b33739b",
   "metadata": {},
   "outputs": [],
   "source": [
    "import matplotlib as plt\n",
    "import numpy as np\n",
    "import ipywidgets as widgets"
   ]
  },
  {
   "cell_type": "code",
   "execution_count": 4,
   "id": "fa807cb1-d940-4d81-a6a2-f07ccfc31bb0",
   "metadata": {},
   "outputs": [
    {
     "name": "stdout",
     "output_type": "stream",
     "text": [
      "0.4472135954999579\n"
     ]
    }
   ],
   "source": [
    "from math import sqrt\n",
    "# C = (F0/m)/sqrt((ω0**2-ω**2)**2-4γ**2ω**2)\n",
    "def vec_C(F0, k, m, omega0, gamma):\n",
    "    omega = k/m\n",
    "    return (F0 / m) / np.sqrt((omega0**2 - omega**2)**2 - 4 * gamma**2 * omega**2)\n",
    "\n",
    "print(vec_C(1, 1, 1, 2, 1))"
   ]
  },
  {
   "cell_type": "code",
   "execution_count": 5,
   "id": "381d3742-a978-491d-84aa-f3ce0e779e9e",
   "metadata": {},
   "outputs": [
    {
     "name": "stdout",
     "output_type": "stream",
     "text": [
      "-1.3333333333333333\n"
     ]
    }
   ],
   "source": [
    "# φ = (2γω)/(ω0**2-ω**2)\n",
    "def phi(k, m, omega0, gamma):\n",
    "    omega = k/m\n",
    "    return (2 * gamma * omega) / (omega0**2 - omega**2)\n",
    "\n",
    "print(phi(2, 1, 1, 1))"
   ]
  },
  {
   "cell_type": "code",
   "execution_count": 6,
   "id": "aaa9c697-05b1-4c9a-a29d-e55ddf1284f2",
   "metadata": {},
   "outputs": [
    {
     "data": {
      "application/vnd.jupyter.widget-view+json": {
       "model_id": "fce65880e11b4b7a90f25b9dc60cee8d",
       "version_major": 2,
       "version_minor": 0
      },
      "text/plain": [
       "interactive(children=(FloatSlider(value=50.0, description='Max k', min=10.0, step=1.0), FloatSlider(value=0.1,…"
      ]
     },
     "metadata": {},
     "output_type": "display_data"
    }
   ],
   "source": [
    "def make_plot(k_max, dk, F0, m, omega0, gamma):\n",
    "    k_vals = np.arange(0, k_max, dk)\n",
    "    \n",
    "    C_vals = vec_C(F0, k_vals, m, omega0, gamma)\n",
    "    phi_vals = phi(k_vals, m, omega0, gamma)\n",
    "    \n",
    "    # plot C and φ\n",
    "    plt.figure(figsize=(5,4))\n",
    "    plt.plot(C_vals, phi_vals, label=\"$\\vec C$ and $\\phi$\")\n",
    "    plt.xlabel(\"$\\vec C$\")\n",
    "    plt.ylabel(\"$\\phi$\")\n",
    "    plt.show()\n",
    "\n",
    "# Create sliders for interactive plot\n",
    "F0_slider = widgets.FloatSlider(value=1.0, min=0.0, max=5.0, step=0.1, description='$F_0$')\n",
    "omega0_slider = widgets.FloatSlider(value=1.0, min=0.0, max=5.0, step=0.1, description='$\\omega_0$')\n",
    "m_slider = widgets.FloatSlider(value=0.1, min=0.0, max=1.0, step=0.01, description='m')\n",
    "k_max_slider = widgets.FloatSlider(value=50, min=10, max=100, step=1, description='Max k')\n",
    "gamma_slider = widgets.FloatSlider(value=0.0, min=-5.0, max=5.0, step=0.1, description='$\\gamma$')\n",
    "dk_slider = widgets.FloatSlider(value=0.1, min=0.1, max=1, step=0.1, description='dk')\n",
    "\n",
    "\n",
    "# Create the interactive widget\n",
    "interactive_plot = widgets.interactive(make_plot, F0=F0_slider, omega0=omega0_slider, m=m_slider,\n",
    "                                       k_max = k_max_slider, gamma=gamma_slider, dk=dk_slider)\n",
    "\n",
    "display(interactive_plot)"
   ]
  }
 ],
 "metadata": {
  "kernelspec": {
   "display_name": "Python 3 (ipykernel)",
   "language": "python",
   "name": "python3"
  },
  "language_info": {
   "codemirror_mode": {
    "name": "ipython",
    "version": 3
   },
   "file_extension": ".py",
   "mimetype": "text/x-python",
   "name": "python",
   "nbconvert_exporter": "python",
   "pygments_lexer": "ipython3",
   "version": "3.9.19"
  }
 },
 "nbformat": 4,
 "nbformat_minor": 5
}
